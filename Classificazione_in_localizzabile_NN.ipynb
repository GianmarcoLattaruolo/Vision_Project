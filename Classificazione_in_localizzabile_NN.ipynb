{
  "nbformat": 4,
  "nbformat_minor": 0,
  "metadata": {
    "colab": {
      "provenance": [],
      "authorship_tag": "ABX9TyPn7UbcLCsEZLBml5xrue5Q",
      "include_colab_link": true
    },
    "kernelspec": {
      "name": "python3",
      "display_name": "Python 3"
    },
    "language_info": {
      "name": "python"
    }
  },
  "cells": [
    {
      "cell_type": "markdown",
      "metadata": {
        "id": "view-in-github",
        "colab_type": "text"
      },
      "source": [
        "<a href=\"https://colab.research.google.com/github/GianmarcoLattaruolo/Vision_Project/blob/main/Classificazione_in_localizzabile_NN.ipynb\" target=\"_parent\"><img src=\"https://colab.research.google.com/assets/colab-badge.svg\" alt=\"Open In Colab\"/></a>"
      ]
    },
    {
      "cell_type": "code",
      "source": [
        "from tensorflow.keras.datasets import cifar10\n",
        "from tensorflow.keras.applications.resnet50 import preprocess_input\n",
        "from tensorflow.keras.utils import to_categorical\n",
        "from tensorflow.keras import Input\n",
        "from tensorflow.keras.applications import ResNet50\n",
        "from tensorflow.keras.optimizers import SGD\n",
        "from tensorflow.keras.models import Sequential\n",
        "from tensorflow.keras.layers import Flatten, Dense\n",
        "\n",
        "from tensorflow.keras.preprocessing import image\n",
        "from tensorflow.keras.preprocessing.image import img_to_array\n",
        "from tensorflow.keras.applications.resnet50 import preprocess_input\n",
        "from tensorflow.keras.applications.imagenet_utils import decode_predictions\n",
        "\n",
        "import matplotlib.pyplot as plt\n",
        "import pandas as pd\n",
        "\n",
        "from sklearn.model_selection import train_test_split\n",
        "from sklearn.metrics import accuracy_score\n",
        "\n",
        "import os\n",
        "import sys\n",
        "from pathlib import Path\n",
        "from PIL import Image\n",
        "from numpy import asarray\n",
        "import multiprocessing as mp"
      ],
      "metadata": {
        "id": "Yp3uAoEq-WML"
      },
      "execution_count": 2,
      "outputs": []
    },
    {
      "cell_type": "code",
      "source": [
        "# with this line we can check if we are in colab or not\n",
        "in_colab = 'google.colab' in sys.modules\n",
        "print(\"are we in Colab?:\",in_colab)\n",
        "\n",
        "cwd = Path(os.getcwd())\n",
        "if in_colab:\n",
        "    from google.colab import drive\n",
        "    drive.mount('/gdrive')\n",
        "    !pip install -q condacolab\n",
        "    import condacolab\n",
        "    condacolab.install()\n",
        "    os.chdir('/gdrive/MyDrive/GeoEstimation')\n",
        "    \n",
        "else:\n",
        "    #our defult wd in local should be Vision_Project\n",
        "    if str(cwd)[-14:] == 'Vision_Project':\n",
        "        os.chdir(cwd / 'GeoEstimation')\n",
        "    sys.path.append(cwd / 'GeoEstimation')"
      ],
      "metadata": {
        "colab": {
          "base_uri": "https://localhost:8080/"
        },
        "id": "qve3sn1MzJ09",
        "outputId": "afb0f877-c665-4cee-87ed-ef9487b81d78"
      },
      "execution_count": 1,
      "outputs": [
        {
          "output_type": "stream",
          "name": "stdout",
          "text": [
            "are we in Colab?: True\n",
            "Mounted at /gdrive\n",
            "⏬ Downloading https://github.com/jaimergp/miniforge/releases/latest/download/Mambaforge-colab-Linux-x86_64.sh...\n",
            "📦 Installing...\n",
            "📌 Adjusting configuration...\n",
            "🩹 Patching environment...\n",
            "⏲ Done in 0:00:21\n",
            "🔁 Restarting kernel...\n"
          ]
        }
      ]
    },
    {
      "cell_type": "code",
      "execution_count": 5,
      "metadata": {
        "id": "C3OV84r9zGDM"
      },
      "outputs": [],
      "source": [
        "dataset = pd.read_csv(\"/gdrive/MyDrive/GeoEstimation/resources/im2gps3k_places365_classified.csv\").dropna()"
      ]
    },
    {
      "cell_type": "code",
      "source": [
        "images = [\"/gdrive/MyDrive/GeoEstimation/resources/images/im2gps3k/{}\".format(img) for img in dataset['IMG_ID']]"
      ],
      "metadata": {
        "id": "05gL7vba_C47"
      },
      "execution_count": 13,
      "outputs": []
    },
    {
      "cell_type": "code",
      "source": [
        "#images = [\"/gdrive/MyDrive/GeoEstimation/resources/images/im2gps3k/{}\".format(img) for img in dataset['IMG_ID']]\n",
        "#img_all = [Image.open(image) for image in images]\n",
        "#img_data = [asarray(img) for img in img_all]"
      ],
      "metadata": {
        "id": "q1prIQSh_rCw"
      },
      "execution_count": 19,
      "outputs": []
    },
    {
      "cell_type": "code",
      "source": [
        "# a function to load all the images in an array format in img_array\n",
        "# other \"easier solutions\" were really slow, this works fine\n",
        "\n",
        "def load_image(image_path):\n",
        "    with Image.open(image_path) as img:\n",
        "        img = img.resize((32, 32))\n",
        "        return np.asarray(img)\n",
        "\n",
        "if __name__ == '__main__':\n",
        "    # Crea una pool di processi\n",
        "    with mp.Pool() as pool:\n",
        "        # Carica le immagini in parallelo\n",
        "        images = [\"/gdrive/MyDrive/GeoEstimation/resources/images/im2gps3k/{}\".format(img) for img in dataset['IMG_ID']]\n",
        "        img_data = pool.map(load_image, images)\n",
        "    \n",
        "    # Crea un array multidimensionale a partire dalla lista di array numpy\n",
        "    img_array = np.stack(img_data)\n"
      ],
      "metadata": {
        "id": "TU6uhK1fBCvL"
      },
      "execution_count": 7,
      "outputs": []
    },
    {
      "cell_type": "code",
      "source": [
        "img_array.shape"
      ],
      "metadata": {
        "colab": {
          "base_uri": "https://localhost:8080/"
        },
        "id": "LUgZOJiMB0TB",
        "outputId": "22254e69-7e1b-460f-f388-8fca547fdd27"
      },
      "execution_count": 9,
      "outputs": [
        {
          "output_type": "execute_result",
          "data": {
            "text/plain": [
              "(1218, 32, 32, 3)"
            ]
          },
          "metadata": {},
          "execution_count": 9
        }
      ]
    },
    {
      "cell_type": "code",
      "source": [
        "# the labels\n",
        "label_array = np.array(dataset['LOC']).reshape((1218, 1))"
      ],
      "metadata": {
        "id": "DHU3bHimG6BR"
      },
      "execution_count": 17,
      "outputs": []
    },
    {
      "cell_type": "code",
      "source": [
        "label_array.shape"
      ],
      "metadata": {
        "colab": {
          "base_uri": "https://localhost:8080/"
        },
        "id": "4dYXWB-jHbdF",
        "outputId": "97568599-cdb7-46cb-b45c-8fe0625a1fc4"
      },
      "execution_count": 18,
      "outputs": [
        {
          "output_type": "execute_result",
          "data": {
            "text/plain": [
              "(1218, 1)"
            ]
          },
          "metadata": {},
          "execution_count": 18
        }
      ]
    },
    {
      "cell_type": "code",
      "source": [
        "# train-test split\n",
        "X_train, X_test, y_train, y_test = train_test_split(img_array, label_array, test_size=0.16, random_state=123)"
      ],
      "metadata": {
        "id": "wuVea11HH4Zn"
      },
      "execution_count": 32,
      "outputs": []
    },
    {
      "cell_type": "code",
      "source": [
        "# processing data for one-hot encoding\n",
        "def preprocess_data(X, Y):\n",
        "  X_p = preprocess_input(X)\n",
        "  Y_p = to_categorical(Y, 3)\n",
        "  return X_p, Y_p"
      ],
      "metadata": {
        "id": "X8H8pyzrIaoo"
      },
      "execution_count": 31,
      "outputs": []
    },
    {
      "cell_type": "code",
      "source": [
        "# one hot encoding applied both to train and test sets\n",
        "X_train, y_train = preprocess_data(X_train, y_train)\n",
        "X_test, y_test = preprocess_data(X_test, y_test)"
      ],
      "metadata": {
        "id": "flbQ9Dl7Iamj"
      },
      "execution_count": 33,
      "outputs": []
    },
    {
      "cell_type": "code",
      "source": [
        "# the model\n",
        "input_t = Input(shape=(32, 32, 3))\n",
        "res_model = ResNet50(include_top=False, #resnet50\n",
        "                   weights='imagenet', #pretrained from imagenet\n",
        "                   input_tensor=input_t)"
      ],
      "metadata": {
        "colab": {
          "base_uri": "https://localhost:8080/"
        },
        "id": "tIR_S__uIaeP",
        "outputId": "29024ca5-1012-4fcd-e679-d2005b2c8003"
      },
      "execution_count": 36,
      "outputs": [
        {
          "output_type": "stream",
          "name": "stdout",
          "text": [
            "Downloading data from https://storage.googleapis.com/tensorflow/keras-applications/resnet/resnet50_weights_tf_dim_ordering_tf_kernels_notop.h5\n",
            "94765736/94765736 [==============================] - 1s 0us/step\n"
          ]
        }
      ]
    },
    {
      "cell_type": "code",
      "source": [
        "# set all the layers not-trainable\n",
        "for layer in res_model.layers[:]:\n",
        "  layer.trainable = False"
      ],
      "metadata": {
        "id": "qki4H0z5IaZi"
      },
      "execution_count": 37,
      "outputs": []
    },
    {
      "cell_type": "code",
      "source": [
        "# add trainable layers to performe the classification\n",
        "model = Sequential()\n",
        "model.add(res_model)\n",
        "model.add(Flatten())\n",
        "model.add(Dense(3, activation='softmax'))"
      ],
      "metadata": {
        "id": "u9G3W37jIaXk"
      },
      "execution_count": 38,
      "outputs": []
    },
    {
      "cell_type": "code",
      "source": [
        "# compile and fit\n",
        "model.compile(loss='categorical_crossentropy',\n",
        "              optimizer=SGD(),\n",
        "              metrics=['accuracy'])\n",
        "history = model.fit(X_train, y_train, batch_size=32, epochs=5, verbose=1)\n",
        "model.summary()"
      ],
      "metadata": {
        "colab": {
          "base_uri": "https://localhost:8080/"
        },
        "id": "LcUkjOXUI9g6",
        "outputId": "f6b4c991-e2a3-436a-b65e-ab35fc9c62db"
      },
      "execution_count": 40,
      "outputs": [
        {
          "output_type": "stream",
          "name": "stdout",
          "text": [
            "Epoch 1/5\n",
            "32/32 [==============================] - 11s 220ms/step - loss: 2.3239 - accuracy: 0.6061\n",
            "Epoch 2/5\n",
            "32/32 [==============================] - 7s 202ms/step - loss: 2.2093 - accuracy: 0.6334\n",
            "Epoch 3/5\n",
            "32/32 [==============================] - 5s 143ms/step - loss: 1.4615 - accuracy: 0.7038\n",
            "Epoch 4/5\n",
            "32/32 [==============================] - 6s 186ms/step - loss: 1.4306 - accuracy: 0.6979\n",
            "Epoch 5/5\n",
            "32/32 [==============================] - 8s 244ms/step - loss: 0.8900 - accuracy: 0.7693\n",
            "Model: \"sequential\"\n",
            "_________________________________________________________________\n",
            " Layer (type)                Output Shape              Param #   \n",
            "=================================================================\n",
            " resnet50 (Functional)       (None, 1, 1, 2048)        23587712  \n",
            "                                                                 \n",
            " flatten (Flatten)           (None, 2048)              0         \n",
            "                                                                 \n",
            " dense (Dense)               (None, 3)                 6147      \n",
            "                                                                 \n",
            "=================================================================\n",
            "Total params: 23,593,859\n",
            "Trainable params: 6,147\n",
            "Non-trainable params: 23,587,712\n",
            "_________________________________________________________________\n"
          ]
        }
      ]
    },
    {
      "cell_type": "code",
      "source": [
        "# test\n",
        "test_loss, test_acc = model.evaluate(X_test, y_test)"
      ],
      "metadata": {
        "colab": {
          "base_uri": "https://localhost:8080/"
        },
        "id": "P9nXGFQJI9cw",
        "outputId": "f5ac8850-6133-4928-b27c-adaabd446c0b"
      },
      "execution_count": 46,
      "outputs": [
        {
          "output_type": "stream",
          "name": "stdout",
          "text": [
            "7/7 [==============================] - 2s 129ms/step - loss: 2.7746 - accuracy: 0.4769\n"
          ]
        }
      ]
    },
    {
      "cell_type": "code",
      "source": [],
      "metadata": {
        "id": "0VR4KF8FI9ak"
      },
      "execution_count": null,
      "outputs": []
    }
  ]
}