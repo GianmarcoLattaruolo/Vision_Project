{
  "nbformat": 4,
  "nbformat_minor": 0,
  "metadata": {
    "colab": {
      "provenance": [],
      "include_colab_link": true
    },
    "kernelspec": {
      "name": "python3",
      "display_name": "Python 3"
    },
    "language_info": {
      "name": "python"
    },
    "accelerator": "GPU",
    "gpuClass": "standard"
  },
  "cells": [
    {
      "cell_type": "markdown",
      "metadata": {
        "id": "view-in-github",
        "colab_type": "text"
      },
      "source": [
        "<a href=\"https://colab.research.google.com/github/GianmarcoLattaruolo/Vision_Project/blob/main/Classificazione_in_localizzabile_NN.ipynb\" target=\"_parent\"><img src=\"https://colab.research.google.com/assets/colab-badge.svg\" alt=\"Open In Colab\"/></a>"
      ]
    },
    {
      "cell_type": "markdown",
      "source": [
        "# Usiamo ResNet50 per classificare le immagini in localizzabili oppure no"
      ],
      "metadata": {
        "id": "y9h03PSsOFFd"
      }
    },
    {
      "cell_type": "code",
      "source": [
        "import os\n",
        "import sys\n",
        "from pathlib import Path\n",
        "\n",
        "# with this line we can check if we are in colab or not\n",
        "in_colab = 'google.colab' in sys.modules\n",
        "print(\"are we in Colab?:\",in_colab)\n",
        "\n",
        "cwd = Path(os.getcwd())\n",
        "if in_colab:\n",
        "    from google.colab import drive\n",
        "    drive.mount('/gdrive')\n",
        "    !pip install -q condacolab\n",
        "    import condacolab\n",
        "    condacolab.install()\n",
        "    os.chdir('/gdrive/MyDrive/GeoEstimation')\n",
        "    \n",
        "else:\n",
        "    #our defult wd in local should be Vision_Project\n",
        "    if str(cwd)[-14:] == 'Vision_Project':\n",
        "        os.chdir(cwd / 'GeoEstimation')\n",
        "    sys.path.append(cwd / 'GeoEstimation')"
      ],
      "metadata": {
        "colab": {
          "base_uri": "https://localhost:8080/"
        },
        "id": "qve3sn1MzJ09",
        "outputId": "205ea085-0fc0-40e5-fea8-e0958c11685d"
      },
      "execution_count": 2,
      "outputs": [
        {
          "output_type": "stream",
          "name": "stdout",
          "text": [
            "are we in Colab?: True\n",
            "Mounted at /gdrive\n",
            "⏬ Downloading https://github.com/jaimergp/miniforge/releases/latest/download/Mambaforge-colab-Linux-x86_64.sh...\n",
            "📦 Installing...\n",
            "📌 Adjusting configuration...\n",
            "🩹 Patching environment...\n",
            "⏲ Done in 0:00:16\n",
            "🔁 Restarting kernel...\n"
          ]
        }
      ]
    },
    {
      "cell_type": "code",
      "source": [
        "from tensorflow.keras.datasets import cifar10\n",
        "from tensorflow.keras.applications.resnet50 import preprocess_input\n",
        "from tensorflow.keras.utils import to_categorical\n",
        "from tensorflow.keras import Input\n",
        "from tensorflow.keras.applications import ResNet50\n",
        "from tensorflow.keras.optimizers import SGD, Adam\n",
        "from tensorflow.keras.models import Sequential\n",
        "from tensorflow.keras.layers import Flatten, Dense, Dropout\n",
        "\n",
        "from tensorflow.keras.preprocessing import image\n",
        "from tensorflow.keras.preprocessing.image import img_to_array\n",
        "from tensorflow.keras.applications.resnet50 import preprocess_input\n",
        "from tensorflow.keras.applications.imagenet_utils import decode_predictions\n",
        "\n",
        "import matplotlib.pyplot as plt\n",
        "import pandas as pd\n",
        "import numpy as np\n",
        "\n",
        "from sklearn.model_selection import train_test_split\n",
        "from sklearn.metrics import accuracy_score\n",
        "\n",
        "import os\n",
        "import sys\n",
        "from pathlib import Path\n",
        "from PIL import Image\n",
        "from numpy import asarray\n",
        "import multiprocessing as mp"
      ],
      "metadata": {
        "id": "Yp3uAoEq-WML"
      },
      "execution_count": 27,
      "outputs": []
    },
    {
      "cell_type": "code",
      "execution_count": 2,
      "metadata": {
        "id": "C3OV84r9zGDM"
      },
      "outputs": [],
      "source": [
        "dataset = pd.read_csv(\"/gdrive/MyDrive/GeoEstimation/resources/im2gps3k_places365_classified.csv\").dropna()"
      ]
    },
    {
      "cell_type": "code",
      "source": [
        "images = [\"/gdrive/MyDrive/GeoEstimation/resources/images/im2gps3k/{}\".format(img) for img in dataset['IMG_ID']]"
      ],
      "metadata": {
        "id": "05gL7vba_C47"
      },
      "execution_count": 3,
      "outputs": []
    },
    {
      "cell_type": "code",
      "source": [
        "#images = [\"/gdrive/MyDrive/GeoEstimation/resources/images/im2gps3k/{}\".format(img) for img in dataset['IMG_ID']]\n",
        "#img_all = [Image.open(image) for image in images]\n",
        "#img_data = [asarray(img) for img in img_all]"
      ],
      "metadata": {
        "id": "q1prIQSh_rCw"
      },
      "execution_count": null,
      "outputs": []
    },
    {
      "cell_type": "code",
      "source": [
        "# a function to load all the images in an array format in img_array\n",
        "# other \"easier solutions\" were really slow, this works fine\n",
        "import tensorflow as tf\n",
        "tf.config.set_visible_devices([], 'GPU')\n",
        "\n",
        "def load_image(image_path):\n",
        "    with Image.open(image_path) as img:\n",
        "        img = img.resize((256, 256))\n",
        "        return np.asarray(img)\n",
        "\n",
        "if __name__ == '__main__':\n",
        "    # Crea una pool di processi\n",
        "    with mp.Pool() as pool:\n",
        "        # Carica le immagini in parallelo\n",
        "        images = [\"/gdrive/MyDrive/GeoEstimation/resources/images/im2gps3k/{}\".format(img) for img in dataset['IMG_ID']]\n",
        "        img_data = pool.map(load_image, images)\n",
        "    \n",
        "    # Crea un array multidimensionale a partire dalla lista di array numpy\n",
        "    img_array = np.stack(img_data)\n"
      ],
      "metadata": {
        "id": "TU6uhK1fBCvL"
      },
      "execution_count": 7,
      "outputs": []
    },
    {
      "cell_type": "code",
      "source": [
        "# now we can re-set the GPU\n",
        "import tensorflow as tf\n",
        "tf.config.set_visible_devices(tf.config.list_physical_devices('GPU')[0], 'GPU')"
      ],
      "metadata": {
        "id": "c5-5q0XnbdDQ"
      },
      "execution_count": 8,
      "outputs": []
    },
    {
      "cell_type": "code",
      "source": [
        "img_array.shape"
      ],
      "metadata": {
        "colab": {
          "base_uri": "https://localhost:8080/"
        },
        "id": "LUgZOJiMB0TB",
        "outputId": "344a2cbb-7e78-4932-acee-f05187268d24"
      },
      "execution_count": null,
      "outputs": [
        {
          "output_type": "execute_result",
          "data": {
            "text/plain": [
              "(1218, 256, 256, 3)"
            ]
          },
          "metadata": {},
          "execution_count": 9
        }
      ]
    },
    {
      "cell_type": "code",
      "source": [
        "# the labels\n",
        "label_array = np.array(dataset['LOC']).reshape((1218, 1))"
      ],
      "metadata": {
        "id": "DHU3bHimG6BR"
      },
      "execution_count": 9,
      "outputs": []
    },
    {
      "cell_type": "code",
      "source": [
        "labels_int = label_array.astype(int)\n",
        "\n",
        "# Conto gli zeri, gli uni e i due nell'array\n",
        "count = np.bincount(labels_int.flatten())\n",
        "\n",
        "# Stampo i risultati\n",
        "print(f\"Zeri: {count[0]}\")\n",
        "print(f\"Uni: {count[1]}\")\n",
        "print(f\"Due: {count[2]}\")"
      ],
      "metadata": {
        "colab": {
          "base_uri": "https://localhost:8080/"
        },
        "id": "4dYXWB-jHbdF",
        "outputId": "602b0a67-433b-4ba9-be6a-59cc8a79821e"
      },
      "execution_count": 26,
      "outputs": [
        {
          "output_type": "stream",
          "name": "stdout",
          "text": [
            "Zeri: 357\n",
            "Uni: 267\n",
            "Due: 594\n"
          ]
        }
      ]
    },
    {
      "cell_type": "code",
      "source": [
        "# train-test split\n",
        "X_train, X_test, y_train, y_test = train_test_split(img_array, label_array, test_size=0.16, random_state=123)"
      ],
      "metadata": {
        "id": "wuVea11HH4Zn"
      },
      "execution_count": 10,
      "outputs": []
    },
    {
      "cell_type": "code",
      "source": [
        "# processing data for one-hot encoding\n",
        "def preprocess_data(X, Y):\n",
        "  X_p = preprocess_input(X)\n",
        "  Y_p = to_categorical(Y, 3)\n",
        "  return X_p, Y_p"
      ],
      "metadata": {
        "id": "X8H8pyzrIaoo"
      },
      "execution_count": 11,
      "outputs": []
    },
    {
      "cell_type": "code",
      "source": [
        "# one hot encoding applied both to train and test sets\n",
        "X_train, y_train = preprocess_data(X_train, y_train)\n",
        "X_test, y_test = preprocess_data(X_test, y_test)"
      ],
      "metadata": {
        "id": "flbQ9Dl7Iamj"
      },
      "execution_count": 12,
      "outputs": []
    },
    {
      "cell_type": "code",
      "source": [
        "# the model\n",
        "input_t = Input(shape=(256, 256, 3))\n",
        "res_model = ResNet50(include_top=False, #resnet50\n",
        "                   weights='imagenet', #pretrained from imagenet\n",
        "                   input_tensor=input_t)"
      ],
      "metadata": {
        "id": "tIR_S__uIaeP",
        "colab": {
          "base_uri": "https://localhost:8080/"
        },
        "outputId": "99f3b9b6-9f93-4d27-944b-924ce9553728"
      },
      "execution_count": 13,
      "outputs": [
        {
          "output_type": "stream",
          "name": "stdout",
          "text": [
            "Downloading data from https://storage.googleapis.com/tensorflow/keras-applications/resnet/resnet50_weights_tf_dim_ordering_tf_kernels_notop.h5\n",
            "94765736/94765736 [==============================] - 5s 0us/step\n"
          ]
        }
      ]
    },
    {
      "cell_type": "code",
      "source": [
        "# set all the layers not-trainable\n",
        "for layer in res_model.layers[:]:\n",
        "  layer.trainable = False"
      ],
      "metadata": {
        "id": "qki4H0z5IaZi"
      },
      "execution_count": 14,
      "outputs": []
    },
    {
      "cell_type": "code",
      "source": [
        "# add trainable layers to performe the classification\n",
        "model = Sequential()\n",
        "model.add(res_model)\n",
        "model.add(Flatten())\n",
        "model.add(Dropout(0.3))\n",
        "model.add(Dense(3, activation='softmax'))"
      ],
      "metadata": {
        "id": "u9G3W37jIaXk"
      },
      "execution_count": 33,
      "outputs": []
    },
    {
      "cell_type": "code",
      "source": [
        "# compile and fit\n",
        "model.compile(loss='categorical_crossentropy',\n",
        "              optimizer=SGD(learning_rate=0.05),\n",
        "              metrics=['accuracy'])\n",
        "history = model.fit(X_train, y_train, batch_size=32, epochs=6, verbose=1)\n",
        "model.summary()"
      ],
      "metadata": {
        "colab": {
          "base_uri": "https://localhost:8080/"
        },
        "id": "LcUkjOXUI9g6",
        "outputId": "65e9aa3b-f9a2-4750-ad76-dc703f9a4a66"
      },
      "execution_count": 38,
      "outputs": [
        {
          "output_type": "stream",
          "name": "stdout",
          "text": [
            "Epoch 1/6\n",
            "32/32 [==============================] - 7s 118ms/step - loss: 4.4434 - accuracy: 0.9883\n",
            "Epoch 2/6\n",
            "32/32 [==============================] - 4s 119ms/step - loss: 1.4972 - accuracy: 0.9961\n",
            "Epoch 3/6\n",
            "32/32 [==============================] - 4s 122ms/step - loss: 0.6359 - accuracy: 0.9971\n",
            "Epoch 4/6\n",
            "32/32 [==============================] - 4s 120ms/step - loss: 0.1403 - accuracy: 0.9990\n",
            "Epoch 5/6\n",
            "32/32 [==============================] - 4s 118ms/step - loss: 1.1653e-10 - accuracy: 1.0000\n",
            "Epoch 6/6\n",
            "32/32 [==============================] - 4s 119ms/step - loss: 0.0073 - accuracy: 0.9990\n",
            "Model: \"sequential_4\"\n",
            "_________________________________________________________________\n",
            " Layer (type)                Output Shape              Param #   \n",
            "=================================================================\n",
            " resnet50 (Functional)       (None, 8, 8, 2048)        23587712  \n",
            "                                                                 \n",
            " flatten_5 (Flatten)         (None, 131072)            0         \n",
            "                                                                 \n",
            " dropout_3 (Dropout)         (None, 131072)            0         \n",
            "                                                                 \n",
            " dense_3 (Dense)             (None, 3)                 393219    \n",
            "                                                                 \n",
            "=================================================================\n",
            "Total params: 23,980,931\n",
            "Trainable params: 393,219\n",
            "Non-trainable params: 23,587,712\n",
            "_________________________________________________________________\n"
          ]
        }
      ]
    },
    {
      "cell_type": "code",
      "source": [
        "# test\n",
        "test_loss, test_acc = model.evaluate(X_test, y_test)"
      ],
      "metadata": {
        "colab": {
          "base_uri": "https://localhost:8080/"
        },
        "id": "P9nXGFQJI9cw",
        "outputId": "b4b75134-3005-4f65-ada5-666caa46f8ef"
      },
      "execution_count": 39,
      "outputs": [
        {
          "output_type": "stream",
          "name": "stdout",
          "text": [
            "7/7 [==============================] - 2s 102ms/step - loss: 695.9738 - accuracy: 0.6308\n"
          ]
        }
      ]
    },
    {
      "cell_type": "code",
      "source": [],
      "metadata": {
        "id": "0VR4KF8FI9ak"
      },
      "execution_count": null,
      "outputs": []
    }
  ]
}